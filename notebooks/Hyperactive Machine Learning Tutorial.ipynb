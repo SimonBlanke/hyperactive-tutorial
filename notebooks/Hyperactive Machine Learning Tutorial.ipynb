{
 "cells": [
  {
   "cell_type": "markdown",
   "id": "fallen-season",
   "metadata": {},
   "source": [
    "<img src=\"./images/logo.png\" alt=\"Drawing\" style=\"width: 500px;\"/>"
   ]
  },
  {
   "cell_type": "code",
   "execution_count": null,
   "id": "imposed-wages",
   "metadata": {},
   "outputs": [],
   "source": []
  },
  {
   "cell_type": "code",
   "execution_count": null,
   "id": "healthy-gnome",
   "metadata": {},
   "outputs": [],
   "source": []
  },
  {
   "cell_type": "code",
   "execution_count": 9,
   "id": "associate-flavor",
   "metadata": {},
   "outputs": [],
   "source": [
    "from sklearn.model_selection import cross_val_score\n",
    "from sklearn.ensemble import GradientBoostingRegressor\n",
    "from sklearn.neighbors import KNeighborsRegressor\n",
    "from sklearn.tree import DecisionTreeRegressor\n",
    "\n",
    "from sklearn.datasets import load_boston\n",
    "from hyperactive import Hyperactive\n"
   ]
  },
  {
   "cell_type": "markdown",
   "id": "ranking-bolivia",
   "metadata": {},
   "source": [
    "<font size=\"4\">\n",
    "\n",
    "## First Chapter <a class=\"anchor\" id=\"first-optimization-run\"></a>\n",
    "\n",
    "<br>\n",
    "\n",
    "\n",
    "...............\n",
    "    "
   ]
  },
  {
   "cell_type": "code",
   "execution_count": 18,
   "id": "equipped-congress",
   "metadata": {},
   "outputs": [],
   "source": [
    "data = load_boston()\n",
    "X, y = data.data, data.target\n",
    "\n",
    "\n",
    "def knr_model(opt):\n",
    "    knr = KNeighborsRegressor(\n",
    "        n_neighbors=opt[\"n_neighbors\"],\n",
    "        leaf_size=opt[\"leaf_size\"],\n",
    "    )\n",
    "    scores = cross_val_score(knr, X, y)\n",
    "\n",
    "    return scores.mean()\n",
    "\n",
    "\n",
    "search_space_knr = {\n",
    "    \"n_neighbors\": list(range(3, 25)),\n",
    "    \"leaf_size\": list(range(5, 100)),\n",
    "}"
   ]
  },
  {
   "cell_type": "code",
   "execution_count": 19,
   "id": "specified-evidence",
   "metadata": {},
   "outputs": [
    {
     "name": "stderr",
     "output_type": "stream",
     "text": [
      "                                                                                                                            "
     ]
    },
    {
     "name": "stdout",
     "output_type": "stream",
     "text": [
      "\n",
      "Results: 'knr_model'  \n",
      "   Best score: -0.2483248532492687  \n",
      "   Best parameter set:\n",
      "      'n_neighbors' : 10  \n",
      "      'leaf_size'   : 36  \n",
      "   Best iteration: 2  \n",
      " \n",
      "   Evaluation time   : 1.9135746955871582 sec    [99.37 %]\n",
      "   Optimization time : 0.01218104362487793 sec    [0.63 %]\n",
      "   Iteration time    : 1.9257557392120361 sec    [155.78 iter/sec]\n",
      " \n"
     ]
    },
    {
     "name": "stderr",
     "output_type": "stream",
     "text": [
      "\r"
     ]
    }
   ],
   "source": [
    "hyper_knr_0 = Hyperactive()\n",
    "hyper_knr_0.add_search(knr_model, search_space_knr, n_iter=300)\n",
    "hyper_knr_0.run()"
   ]
  },
  {
   "cell_type": "code",
   "execution_count": null,
   "id": "environmental-pound",
   "metadata": {},
   "outputs": [],
   "source": []
  },
  {
   "cell_type": "code",
   "execution_count": null,
   "id": "artistic-drunk",
   "metadata": {},
   "outputs": [],
   "source": [
    "def knr_model(opt):\n",
    "    knr = KNeighborsRegressor(\n",
    "        n_neighbors=opt[\"n_neighbors\"],\n",
    "        leaf_size=opt[\"leaf_size\"],\n",
    "    )\n",
    "    scores = cross_val_score(knr, X, y)\n",
    "\n",
    "    return scores.mean()\n",
    "\n",
    "\n",
    "search_space_knr = {\n",
    "    \"n_neighbors\": list(range(3, 25)),\n",
    "    \"leaf_size\": list(range(5, 100)),\n",
    "}"
   ]
  },
  {
   "cell_type": "code",
   "execution_count": null,
   "id": "descending-subdivision",
   "metadata": {},
   "outputs": [],
   "source": [
    "from hyperactive import EvolutionStrategyOptimizer\n",
    "\n",
    "optimizer = EvolutionStrategyOptimizer()\n",
    "\n",
    "hyper_knr_1 = Hyperactive()\n",
    "hyper_knr_1.add_search(knr_model, search_space_knr, n_iter=300, optimizer=optimizer)\n",
    "hyper_knr_1.run()"
   ]
  },
  {
   "cell_type": "code",
   "execution_count": null,
   "id": "controlling-country",
   "metadata": {},
   "outputs": [],
   "source": []
  },
  {
   "cell_type": "code",
   "execution_count": null,
   "id": "annoying-equilibrium",
   "metadata": {},
   "outputs": [],
   "source": []
  },
  {
   "cell_type": "code",
   "execution_count": null,
   "id": "noted-latin",
   "metadata": {},
   "outputs": [],
   "source": []
  },
  {
   "cell_type": "code",
   "execution_count": null,
   "id": "unable-ebony",
   "metadata": {},
   "outputs": [],
   "source": []
  },
  {
   "cell_type": "code",
   "execution_count": null,
   "id": "driving-shell",
   "metadata": {},
   "outputs": [],
   "source": []
  },
  {
   "cell_type": "code",
   "execution_count": null,
   "id": "wired-delay",
   "metadata": {},
   "outputs": [],
   "source": []
  },
  {
   "cell_type": "code",
   "execution_count": null,
   "id": "directed-marketplace",
   "metadata": {},
   "outputs": [],
   "source": []
  },
  {
   "cell_type": "code",
   "execution_count": null,
   "id": "cheap-going",
   "metadata": {},
   "outputs": [],
   "source": []
  },
  {
   "cell_type": "code",
   "execution_count": null,
   "id": "literary-chapter",
   "metadata": {},
   "outputs": [],
   "source": []
  },
  {
   "cell_type": "code",
   "execution_count": null,
   "id": "known-exhaust",
   "metadata": {},
   "outputs": [],
   "source": []
  },
  {
   "cell_type": "code",
   "execution_count": null,
   "id": "laughing-religious",
   "metadata": {},
   "outputs": [],
   "source": []
  },
  {
   "cell_type": "code",
   "execution_count": null,
   "id": "cheap-terrorism",
   "metadata": {},
   "outputs": [],
   "source": []
  }
 ],
 "metadata": {
  "kernelspec": {
   "display_name": "Python 3",
   "language": "python",
   "name": "python3"
  },
  "language_info": {
   "codemirror_mode": {
    "name": "ipython",
    "version": 3
   },
   "file_extension": ".py",
   "mimetype": "text/x-python",
   "name": "python",
   "nbconvert_exporter": "python",
   "pygments_lexer": "ipython3",
   "version": "3.8.5"
  }
 },
 "nbformat": 4,
 "nbformat_minor": 5
}
