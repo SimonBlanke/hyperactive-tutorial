{
 "cells": [
  {
   "cell_type": "markdown",
   "id": "basic-petersburg",
   "metadata": {},
   "source": [
    "<img src=\"./images/logo.png\" alt=\"Drawing\" style=\"width: 500px;\"/>"
   ]
  },
  {
   "cell_type": "markdown",
   "id": "studied-clearance",
   "metadata": {},
   "source": [
    "<font size=\"4\">\n",
    "\n",
    "# Long-Term-Memory Tutorial\n",
    "    \n",
    "    \n",
    "...\n",
    "\n",
    "<br>\n",
    "    \n",
    "\n",
    "    \n",
    "## Table of contents:\n",
    "* [...](#...)\n"
   ]
  },
  {
   "cell_type": "code",
   "execution_count": null,
   "id": "terminal-photography",
   "metadata": {},
   "outputs": [],
   "source": [
    "import numpy as np\n",
    "import pandas as pd\n",
    "from hyperactive import Hyperactive\n",
    "from hyperactive.long_term_memory import LongTermMemory, Dashboard"
   ]
  },
  {
   "cell_type": "markdown",
   "id": "solved-special",
   "metadata": {},
   "source": [
    "<font size=\"4\">\n",
    "    \n",
    "## Introduction <a class=\"anchor\" id=\"intro\"></a>"
   ]
  },
  {
   "cell_type": "code",
   "execution_count": null,
   "id": "living-camera",
   "metadata": {},
   "outputs": [],
   "source": [
    "search_space_0 = {\n",
    "    \"x\": list(range(-10, 11)),\n",
    "    \"y\": list(range(-10, 11)),\n",
    "}\n",
    "\n",
    "def objective_function_0(opt):\n",
    "    x = opt[\"x\"]\n",
    "    y = opt[\"y\"]\n",
    "    score = -(x * x + y * y)\n",
    "    return score"
   ]
  },
  {
   "cell_type": "code",
   "execution_count": null,
   "id": "interesting-jewel",
   "metadata": {},
   "outputs": [],
   "source": [
    "ltm = LongTermMemory(\"test_model1\")"
   ]
  },
  {
   "cell_type": "code",
   "execution_count": null,
   "id": "median-lebanon",
   "metadata": {},
   "outputs": [],
   "source": [
    "hyper = Hyperactive(verbosity=False)\n",
    "hyper.add_search(objective_function_0, search_space_0, n_iter=100, memory=ltm)\n",
    "hyper.run()"
   ]
  },
  {
   "cell_type": "markdown",
   "id": "geographic-craft",
   "metadata": {},
   "source": [
    "<font size=\"4\">\n",
    "    \n",
    "    ..."
   ]
  },
  {
   "cell_type": "code",
   "execution_count": null,
   "id": "chinese-register",
   "metadata": {},
   "outputs": [],
   "source": []
  },
  {
   "cell_type": "code",
   "execution_count": null,
   "id": "artistic-taste",
   "metadata": {},
   "outputs": [],
   "source": []
  },
  {
   "cell_type": "code",
   "execution_count": null,
   "id": "wicked-farmer",
   "metadata": {},
   "outputs": [],
   "source": []
  },
  {
   "cell_type": "code",
   "execution_count": null,
   "id": "baking-rebel",
   "metadata": {},
   "outputs": [],
   "source": []
  },
  {
   "cell_type": "code",
   "execution_count": null,
   "id": "statistical-mortgage",
   "metadata": {},
   "outputs": [],
   "source": []
  },
  {
   "cell_type": "code",
   "execution_count": null,
   "id": "controversial-shopping",
   "metadata": {},
   "outputs": [],
   "source": []
  },
  {
   "cell_type": "code",
   "execution_count": null,
   "id": "industrial-reward",
   "metadata": {},
   "outputs": [],
   "source": []
  },
  {
   "cell_type": "code",
   "execution_count": null,
   "id": "likely-quantity",
   "metadata": {},
   "outputs": [],
   "source": []
  },
  {
   "cell_type": "code",
   "execution_count": null,
   "id": "basic-edward",
   "metadata": {},
   "outputs": [],
   "source": []
  },
  {
   "cell_type": "code",
   "execution_count": null,
   "id": "written-former",
   "metadata": {},
   "outputs": [],
   "source": []
  },
  {
   "cell_type": "code",
   "execution_count": null,
   "id": "ceramic-fisher",
   "metadata": {},
   "outputs": [],
   "source": []
  },
  {
   "cell_type": "code",
   "execution_count": null,
   "id": "physical-nightlife",
   "metadata": {},
   "outputs": [],
   "source": []
  },
  {
   "cell_type": "code",
   "execution_count": null,
   "id": "every-slovakia",
   "metadata": {},
   "outputs": [],
   "source": []
  },
  {
   "cell_type": "code",
   "execution_count": null,
   "id": "critical-pharmacy",
   "metadata": {},
   "outputs": [],
   "source": []
  }
 ],
 "metadata": {
  "kernelspec": {
   "display_name": "Python 3",
   "language": "python",
   "name": "python3"
  },
  "language_info": {
   "codemirror_mode": {
    "name": "ipython",
    "version": 3
   },
   "file_extension": ".py",
   "mimetype": "text/x-python",
   "name": "python",
   "nbconvert_exporter": "python",
   "pygments_lexer": "ipython3",
   "version": "3.8.5"
  }
 },
 "nbformat": 4,
 "nbformat_minor": 5
}
